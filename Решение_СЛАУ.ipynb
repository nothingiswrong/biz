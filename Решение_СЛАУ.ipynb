{
 "cells": [
  {
   "cell_type": "code",
   "execution_count": 2,
   "metadata": {
    "id": "SH_iXLcIxisv"
   },
   "outputs": [],
   "source": [
    "import numpy as np"
   ]
  },
  {
   "cell_type": "markdown",
   "metadata": {
    "id": "khd5h6dkxr2Q"
   },
   "source": [
    "# Метод Гаусса"
   ]
  },
  {
   "cell_type": "code",
   "execution_count": 2,
   "metadata": {
    "id": "2QzwV-Rix56m"
   },
   "outputs": [],
   "source": [
    "def gauss(a, b):\n",
    "    n = len(a)\n",
    "    aug = np.hstack((a, b.reshape(n, -1)))\n",
    "\n",
    "    # Прямой ход метода Гаусса\n",
    "    for k in range(n - 1):\n",
    "        m = np.argmax(np.abs(aug[k:, k]))\n",
    "        if aug[k + m, k] == 0:\n",
    "            print('Матрица A вырождена')\n",
    "            return\n",
    "        if m:\n",
    "            aug[[k, k + m]] = aug[[k + m, k]]\n",
    "        for i in range(k + 1, n):\n",
    "            mult = aug[i, k] / aug[k, k]\n",
    "            aug[i, k:] -= mult * aug[k, k:]\n",
    "\n",
    "    # Обратный ход метода Гаусса\n",
    "    x = np.zeros_like(b)\n",
    "    x[n - 1] = aug[n - 1, n:] / aug[n - 1, n - 1]\n",
    "    for k in range(n - 2, -1, -1):\n",
    "        x[k] = (aug[k, n:] - aug[k, k + 1:n] @ x[k + 1:n]) / aug[k, k]\n",
    "\n",
    "    return x"
   ]
  },
  {
   "cell_type": "code",
   "execution_count": 3,
   "metadata": {
    "id": "c-F_YouF0dGO"
   },
   "outputs": [],
   "source": [
    "a = np.random.normal(0, 100, (5, 5))\n",
    "b = np.random.normal(0, 100, (5, 2))\n",
    "x = gauss(a, b)\n",
    "assert np.allclose(a @ x, b)"
   ]
  },
  {
   "cell_type": "markdown",
   "metadata": {
    "id": "Y-Q88znZ2ZVB"
   },
   "source": [
    "# Метод Якоби"
   ]
  },
  {
   "cell_type": "code",
   "execution_count": 4,
   "metadata": {
    "id": "1z_ZUPyQ3fkh"
   },
   "outputs": [],
   "source": [
    "def jacobi(a, b, tol=1e-8, max_iter=500):\n",
    "    n = len(a)\n",
    "    c = np.eye(n) - a / np.diag(a)[:, None]\n",
    "    d = b / np.diag(a)[:, None]\n",
    "    x = p = d\n",
    "    for i in range(max_iter):\n",
    "        x = c @ x + d\n",
    "        if np.linalg.norm(x - p, np.inf) <= tol:\n",
    "            return x, i + 1\n",
    "        p = x\n",
    "    print('Превышено максимальное число итераций.')\n",
    "    return x, i + 1"
   ]
  },
  {
   "cell_type": "code",
   "execution_count": 5,
   "metadata": {
    "colab": {
     "base_uri": "https://localhost:8080/"
    },
    "id": "0SKgmlcf7E9H",
    "outputId": "508f33c9-f576-41c6-a3ec-5200f58e0179"
   },
   "outputs": [
    {
     "name": "stdout",
     "output_type": "stream",
     "text": [
      "Количество итераций 37\n"
     ]
    }
   ],
   "source": [
    "n = 5\n",
    "a = np.random.normal(0, 100, (n, n))\n",
    "for i in range(n):\n",
    "    a[i, i] = np.sum(np.abs(a[i])) + 1\n",
    "b = np.random.normal(0, 100, (n, 2))\n",
    "x, it = jacobi(a, b)\n",
    "assert np.allclose(a @ x, b)\n",
    "print(f'Количество итераций {it}')"
   ]
  },
  {
   "cell_type": "code",
   "execution_count": 14,
   "metadata": {},
   "outputs": [],
   "source": [
    "def zeydel(a, b):\n",
    "    n = len(a)\n",
    "    c = np.eye(n) - a / np.diag(a)[:, None]\n",
    "    d = b / np.diag(a)[:, None]\n",
    "    x = np.copy(d)\n",
    "    p = np.copy(d)\n",
    "    for i in range(max_iter):\n",
    "        for j in range(n):\n",
    "           x[j] = c[j] @ x + d[k]\n",
    "        if np.linalg.norm(x - p, np.inf) <= tol:\n",
    "            return x, i + 1\n",
    "        p = np.copy(x)\n",
    "    print('Превышено максимальное число итераций.')\n",
    "    return x, i + 1"
   ]
  },
  {
   "cell_type": "code",
   "execution_count": 15,
   "metadata": {},
   "outputs": [],
   "source": [
    "def progon(a, b):\n",
    "    n = len(a)\n",
    "\n",
    "    gamma = a[0, 0]\n",
    "    alpha = np.zeros_like(b)\n",
    "    beta = np.zeros_like(b)\n",
    "    alpha[0] = - a[0, 1] / y\n",
    "    beta[0] = b[0] / y\n",
    "\n",
    "    for i in range(1, n - 1):\n",
    "        gamma = a[i, i] + a[i, i - 1] * alpha[i - 1]\n",
    "        alpha[i] = - a[i, i + 1] / y\n",
    "        beta[i] = (b[i] - a[i, i - 1] * beta[i - 1]) / gamma\n",
    "\n",
    "    gamma = a[n - 1, n - 1] + a[n - 1, n - 2] * alpha[n - 2]\n",
    "    beta[n - 1] = (b[n - 1] - a[n - 1, n - 2] * beta[n - 2]) / gamma\n",
    "\n",
    "\n",
    "    x = np.zeros_like(b)\n",
    "    x[n - 1] = beta[n - 1]\n",
    "\n",
    "    for i in range(n - 2, -1, -1):\n",
    "        x[i] = alpha[i] * x[i + 1] + beta[i]\n",
    "\n",
    "    return x"
   ]
  },
  {
   "cell_type": "code",
   "execution_count": 60,
   "metadata": {},
   "outputs": [],
   "source": [
    "n = 3\n",
    "diag = np.random.randint(1, 100, n)\n",
    "B = np.random.random((a.shape[0], 2))\n",
    "a = np.diag(diag, 0) + np.diag((diag / 2)[:-1], -1) + np.diag((diag / 2)[:-1], 1)\n",
    "x = run_through(a, B)\n",
    "\n",
    "assert(np.allclose(a @ x, B))"
   ]
  },
  {
   "cell_type": "code",
   "execution_count": null,
   "metadata": {},
   "outputs": [],
   "source": []
  }
 ],
 "metadata": {
  "colab": {
   "provenance": []
  },
  "kernelspec": {
   "display_name": "Python 3 (ipykernel)",
   "language": "python",
   "name": "python3"
  },
  "language_info": {
   "codemirror_mode": {
    "name": "ipython",
    "version": 3
   },
   "file_extension": ".py",
   "mimetype": "text/x-python",
   "name": "python",
   "nbconvert_exporter": "python",
   "pygments_lexer": "ipython3",
   "version": "3.11.8"
  }
 },
 "nbformat": 4,
 "nbformat_minor": 4
}
