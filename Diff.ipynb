{
 "cells": [
  {
   "cell_type": "code",
   "execution_count": 254,
   "id": "initial_id",
   "metadata": {
    "collapsed": true,
    "ExecuteTime": {
     "end_time": "2024-05-19T18:28:25.816723Z",
     "start_time": "2024-05-19T18:28:25.813478Z"
    }
   },
   "outputs": [],
   "source": [
    "def f(x, y):\n",
    "    return x * y ** 2 - y\n"
   ]
  },
  {
   "cell_type": "code",
   "outputs": [],
   "source": [
    "import numpy as np\n",
    "import matplotlib.pyplot as plt"
   ],
   "metadata": {
    "collapsed": false,
    "ExecuteTime": {
     "end_time": "2024-05-19T18:28:25.821726Z",
     "start_time": "2024-05-19T18:28:25.818906Z"
    }
   },
   "id": "d4248e2ae7ddb316",
   "execution_count": 255
  },
  {
   "cell_type": "code",
   "outputs": [],
   "source": [
    "def range_kutt_fourth(a, b, y0, N):\n",
    "    y = np.zeros(N)\n",
    "    x = np.linspace(a, b, N)\n",
    "    y[0] = y0\n",
    "    h = x[1] - x[0]\n",
    "    mul = np.array([h / 6, h / 3, h / 3, h / 6])\n",
    "    for i in range(N - 1):\n",
    "        K = np.zeros(4)\n",
    "        K[0] = f(x[i], y[i])\n",
    "        K[1] = f(x[i] + h/2, y[i] + h / 2 * K[0])\n",
    "        K[2] = f(x[i] + h / 2, y[i] + h / 2 * K[1])\n",
    "        K[3] = f(x[i + 1], y[i] + h * K[2])\n",
    "        y[i + 1] = y[i] + mul @ K\n",
    " \n",
    "    return x, y"
   ],
   "metadata": {
    "collapsed": false,
    "ExecuteTime": {
     "end_time": "2024-05-19T18:28:25.832579Z",
     "start_time": "2024-05-19T18:28:25.825003Z"
    }
   },
   "id": "e5b0646390118b0",
   "execution_count": 256
  },
  {
   "cell_type": "code",
   "outputs": [],
   "source": [
    "def euler(a, b, y0, N):\n",
    "    y = np.zeros(N)\n",
    "    x = np.linspace(a, b, N)\n",
    "    y[0] = y0\n",
    "    h = x[1] - x[0]\n",
    "    for i in range(N - 1):\n",
    "        y[i + 1] = y[i] + h * f(x[i], y[i])\n",
    "    return x, y\n",
    "    "
   ],
   "metadata": {
    "collapsed": false,
    "ExecuteTime": {
     "end_time": "2024-05-19T18:28:25.842785Z",
     "start_time": "2024-05-19T18:28:25.833821Z"
    }
   },
   "id": "3108bc866b189ed7",
   "execution_count": 257
  },
  {
   "cell_type": "code",
   "outputs": [],
   "source": [
    "def euler_upgraded(a, b, y0, N):\n",
    "    y = np.zeros(N)\n",
    "    x = np.linspace(a, b, N)\n",
    "    y[0] = y0\n",
    "    h = x[1] - x[0]\n",
    "    for i in range(N - 1):\n",
    "        x_half = x[i] + h / 2\n",
    "        y_half = y[i] + h / 2 * f(x[i], y[i])\n",
    "        y[i + 1] = y[i] + h * f(x_half, y_half)\n",
    "    return x, y\n",
    "    "
   ],
   "metadata": {
    "collapsed": false,
    "ExecuteTime": {
     "end_time": "2024-05-19T18:28:25.848861Z",
     "start_time": "2024-05-19T18:28:25.844736Z"
    }
   },
   "id": "302d1bba5b3e0d31",
   "execution_count": 258
  },
  {
   "cell_type": "code",
   "outputs": [
    {
     "data": {
      "text/plain": "<Figure size 640x480 with 1 Axes>",
      "image/png": "[encoded data removed]"
     },
     "metadata": {},
     "output_type": "display_data"
    }
   ],
   "source": [
    "a = x0 = 0 \n",
    "y0 = 1 \n",
    "b = 2 \n",
    "N = 1000 \n",
    "x_rang, y_rang = range_kutt_fourth(a, b, y0, N)\n",
    "x_euler, y_euler = euler(a, b, y0, N)\n",
    "x_euler_up, y_euler_up = euler_upgraded(a, b, y0, N)\n",
    "# print(x_rang, y_rang)\n",
    "# print(x_euler, y_euler)\n",
    "plt.plot(x_rang, y_rang )\n",
    "plt.plot(x_euler, y_euler)\n",
    "plt.plot(x_euler_up, y_euler_up)\n",
    "plt.grid()\n",
    "plt.show()"
   ],
   "metadata": {
    "collapsed": false,
    "ExecuteTime": {
     "end_time": "2024-05-19T18:28:26.002558Z",
     "start_time": "2024-05-19T18:28:25.852358Z"
    }
   },
   "id": "e272cd84f8390494",
   "execution_count": 259
  }
 ],
 "metadata": {
  "kernelspec": {
   "display_name": "Python 3",
   "language": "python",
   "name": "python3"
  },
  "language_info": {
   "codemirror_mode": {
    "name": "ipython",
    "version": 2
   },
   "file_extension": ".py",
   "mimetype": "text/x-python",
   "name": "python",
   "nbconvert_exporter": "python",
   "pygments_lexer": "ipython2",
   "version": "2.7.6"
  }
 },
 "nbformat": 4,
 "nbformat_minor": 5
}
