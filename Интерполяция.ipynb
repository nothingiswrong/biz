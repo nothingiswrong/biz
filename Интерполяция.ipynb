{
 "nbformat": 4,
 "nbformat_minor": 0,
 "metadata": {
  "colab": {
   "provenance": []
  },
  "kernelspec": {
   "name": "python3",
   "language": "python",
   "display_name": "Python 3 (ipykernel)"
  },
  "language_info": {
   "name": "python"
  }
 },
 "cells": [
  {
   "cell_type": "code",
   "execution_count": null,
   "metadata": {
    "id": "eIEFBC1ZAYvX"
   },
   "outputs": [],
   "source": [
    "import numpy as np\n",
    "import matplotlib.pyplot as plt"
   ]
  },
  {
   "cell_type": "code",
   "source": [
    "def aitken(x, y, xx):\n",
    "    '''\n",
    "    Вычисление интерполяционного полинома в форме Лагранжа по схеме Эйткена\n",
    "    x - массив координат узлов\n",
    "    y - массив значений интерполируемой функции\n",
    "    xx - массив значений аргумента, для которых надо вычислить значения\n",
    "    полинома\n",
    "    '''\n",
    "    # Ваш код здесь"
   ],
   "metadata": {
    "id": "2C10fxC7AmQa"
   },
   "execution_count": null,
   "outputs": []
  },
  {
   "cell_type": "code",
   "source": [
    "def newton(x, y, xx):\n",
    "    '''\n",
    "    вычисление интерполяционного полинома в форме Ньютона\n",
    "    x - массив координат узлов\n",
    "    y - массив значений интерполируемой функции\n",
    "    xx - массив значений аргумента, для которых надо вычислить значения\n",
    "    полинома\n",
    "    '''\n",
    "    # Ваш код здесь"
   ],
   "metadata": {
    "id": "CDmJfQt1Azm6",
    "ExecuteTime": {
     "end_time": "2024-04-20T15:50:42.225575Z",
     "start_time": "2024-04-20T15:50:42.218602Z"
    }
   },
   "execution_count": 1,
   "outputs": []
  },
  {
   "cell_type": "code",
   "outputs": [],
   "source": [
    "def aitken_scheme(x_values, y_values):\n",
    "  \"\"\"\n",
    "  Вычисляет интерполяционный полином Лагранжа с помощью схемы Эйткена.\n",
    "\n",
    "  Args:\n",
    "    x_values: Массив значений x.\n",
    "    y_values: Массив значений y.\n",
    "\n",
    "  Returns:\n",
    "    Функция, представляющая интерполяционный полином.\n",
    "  \"\"\"\n",
    "  n = len(x_values)\n",
    "  p = np.zeros((n, n))\n",
    "  p[:,0] = y_values\n",
    "\n",
    "  for j in range(1, n):\n",
    "    for i in range(n-j):\n",
    "      p[i,j] = (p[i+1,j-1] - p[i,j-1]) / (x_values[i+j] - x_values[i])\n",
    "\n",
    "  def L(x):\n",
    "    result = p[0,0]\n",
    "    for j in range(1, n):\n",
    "      term = p[0,j]\n",
    "      for i in range(j):\n",
    "        term *= (x - x_values[i])\n",
    "      result += term\n",
    "    return result\n",
    "\n",
    "  return L"
   ],
   "metadata": {
    "collapsed": false
   }
  },
  {
   "cell_type": "markdown",
   "source": [
    "## Проверка"
   ],
   "metadata": {
    "id": "j3PNoCjcFNwN"
   }
  },
  {
   "cell_type": "code",
   "source": [
    "x = np.linspace(0, np.pi * 2, 5)\n",
    "y = np.sin(x)\n",
    "xx = np.linspace(0, np.pi * 2, 100)\n",
    "yyl = aitken(x, y, xx)\n",
    "yyn = newton(x, y, xx)\n",
    "assert np.allclose(yyl, yyn)\n",
    "plt.plot(x, y, 'o', xx, np.sin(xx), xx, yyl, '--')\n",
    "plt.show()"
   ],
   "metadata": {
    "colab": {
     "base_uri": "https://localhost:8080/",
     "height": 265
    },
    "id": "FZ9kUfeMA9gi",
    "outputId": "fcf0d667-ffdc-4d4a-f80c-c68de79e27b2"
   },
   "execution_count": null,
   "outputs": [
    {
     "output_type": "display_data",
     "data": {
      "text/plain": [
       "<Figure size 432x288 with 1 Axes>"
      ],
      "image/png": "[encoded data removed]"
     },
     "metadata": {
      "needs_background": "light"
     }
    }
   ]
  }
 ]
}
